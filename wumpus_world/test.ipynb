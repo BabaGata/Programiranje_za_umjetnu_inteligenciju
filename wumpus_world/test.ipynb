{
 "cells": [
  {
   "cell_type": "code",
   "execution_count": 1,
   "id": "faad0d02-df5f-4073-9132-c94b9a79c304",
   "metadata": {},
   "outputs": [],
   "source": [
    "import numpy as np"
   ]
  },
  {
   "cell_type": "code",
   "execution_count": 2,
   "id": "2ddaea1c-c12b-4859-9af3-c65a0c0a3a6d",
   "metadata": {},
   "outputs": [],
   "source": [
    "knowl_base = [['C', 'C', 'B', ''], ['CA', '', 'N', ''], ['G', '', 'N', ''], ['N', '', '', '']]"
   ]
  },
  {
   "cell_type": "code",
   "execution_count": 13,
   "id": "c1b83d9b-ff9a-498f-9677-aa905facf116",
   "metadata": {},
   "outputs": [
    {
     "data": {
      "text/plain": [
       "[['C', 'C', 'B', ''],\n",
       " ['CA', '', 'N', ''],\n",
       " ['G', '', 'N', ''],\n",
       " ['N', '', '', '']]"
      ]
     },
     "execution_count": 13,
     "metadata": {},
     "output_type": "execute_result"
    }
   ],
   "source": [
    "knowl_base[1][2] = knowl_base[1][2] + 'N'\n",
    "knowl_base"
   ]
  },
  {
   "cell_type": "code",
   "execution_count": 14,
   "id": "0a60dc9d-0df2-47e5-81a1-ca0e4c13764a",
   "metadata": {},
   "outputs": [
    {
     "data": {
      "text/plain": [
       "[['C', 'C', 'B', ''],\n",
       " ['CA', '', '', ''],\n",
       " ['G', '', 'N', ''],\n",
       " ['N', '', '', '']]"
      ]
     },
     "execution_count": 14,
     "metadata": {},
     "output_type": "execute_result"
    }
   ],
   "source": [
    "knowl_base[1][2] = knowl_base[1][2].replace('N', '')\n",
    "knowl_base"
   ]
  },
  {
   "cell_type": "code",
   "execution_count": 16,
   "id": "347db210-8bc9-4c6e-9928-fe651e597595",
   "metadata": {},
   "outputs": [],
   "source": [
    "if 'G' in knowl_base:\n",
    "    print('Bravo')"
   ]
  },
  {
   "cell_type": "code",
   "execution_count": 17,
   "id": "ecadb412-a08a-41b7-b8ff-79cb024631e2",
   "metadata": {},
   "outputs": [],
   "source": [
    "x = -1"
   ]
  },
  {
   "cell_type": "code",
   "execution_count": 18,
   "id": "47cece9c-366e-4cee-9d9b-3f5f6011808b",
   "metadata": {},
   "outputs": [
    {
     "data": {
      "text/plain": [
       "1"
      ]
     },
     "execution_count": 18,
     "metadata": {},
     "output_type": "execute_result"
    }
   ],
   "source": [
    "a = 2 + x\n",
    "a"
   ]
  },
  {
   "cell_type": "code",
   "execution_count": 34,
   "id": "fbfff394-7053-4196-8b36-28983a449c44",
   "metadata": {},
   "outputs": [
    {
     "data": {
      "text/plain": [
       "[(1, 1), (-1, 1), (1, -1), (0, 1), (1, 0), (0, -1), (-1, 0), (-1, 0)]"
      ]
     },
     "execution_count": 34,
     "metadata": {},
     "output_type": "execute_result"
    }
   ],
   "source": [
    "queue = []\n",
    "queue.append((1,1))\n",
    "queue.append((-1,1))\n",
    "queue.append((1,-1))\n",
    "queue.append((0,1))\n",
    "queue.append((1,0))\n",
    "queue.append((0,-1))\n",
    "queue.append((-1,0))\n",
    "queue.append((-1,0))\n",
    "queue"
   ]
  },
  {
   "cell_type": "code",
   "execution_count": 28,
   "id": "3abbaa40-2518-4d71-9510-2eafe6bdd19f",
   "metadata": {},
   "outputs": [
    {
     "data": {
      "text/plain": [
       "[(1, 1)]"
      ]
     },
     "execution_count": 28,
     "metadata": {},
     "output_type": "execute_result"
    }
   ],
   "source": [
    "queue.pop()\n",
    "queue"
   ]
  },
  {
   "cell_type": "code",
   "execution_count": 29,
   "id": "3fe4646f-255c-4e56-8b0c-65784bc234f4",
   "metadata": {},
   "outputs": [
    {
     "data": {
      "text/plain": [
       "(1, 1)"
      ]
     },
     "execution_count": 29,
     "metadata": {},
     "output_type": "execute_result"
    }
   ],
   "source": [
    "queue[-1]"
   ]
  },
  {
   "cell_type": "code",
   "execution_count": 38,
   "id": "d78307f1-515b-40a6-a78b-722a86855501",
   "metadata": {},
   "outputs": [
    {
     "name": "stdout",
     "output_type": "stream",
     "text": [
      "[(1, 1), (-1, 1), (1, -1), (0, 1), (1, 0), (0, -1), (-1, 0), (-1, 0)]\n"
     ]
    }
   ],
   "source": [
    "if queue[-1] == queue[-2]:\n",
    "    print(queue)"
   ]
  },
  {
   "cell_type": "code",
   "execution_count": null,
   "id": "6c0bd5d6-9d00-4b6f-aab2-11d187aa1986",
   "metadata": {},
   "outputs": [],
   "source": []
  }
 ],
 "metadata": {
  "kernelspec": {
   "display_name": "Python 3 (ipykernel)",
   "language": "python",
   "name": "python3"
  },
  "language_info": {
   "codemirror_mode": {
    "name": "ipython",
    "version": 3
   },
   "file_extension": ".py",
   "mimetype": "text/x-python",
   "name": "python",
   "nbconvert_exporter": "python",
   "pygments_lexer": "ipython3",
   "version": "3.10.12"
  }
 },
 "nbformat": 4,
 "nbformat_minor": 5
}
